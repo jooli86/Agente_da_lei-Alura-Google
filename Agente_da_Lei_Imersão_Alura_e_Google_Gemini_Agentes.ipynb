{
  "nbformat": 4,
  "nbformat_minor": 0,
  "metadata": {
    "colab": {
      "provenance": []
    },
    "kernelspec": {
      "name": "python3",
      "display_name": "Python 3"
    },
    "language_info": {
      "name": "python"
    }
  },
  "cells": [
    {
      "cell_type": "code",
      "source": [
        "%pip -q install google-genai"
      ],
      "metadata": {
        "id": "UCCbECexLk_h"
      },
      "execution_count": 1,
      "outputs": []
    },
    {
      "cell_type": "code",
      "source": [
        "# Configura a API Key do Google Gemini\n",
        "\n",
        "import os\n",
        "from google.colab import userdata\n",
        "\n",
        "os.environ[\"GOOGLE_API_KEY\"] = userdata.get('GOOGLE_API_KEY')"
      ],
      "metadata": {
        "id": "NfCqHo1tLk8P"
      },
      "execution_count": 3,
      "outputs": []
    },
    {
      "cell_type": "code",
      "source": [
        "# Configura o cliente da SDK do Gemini\n",
        "\n",
        "from google import genai\n",
        "\n",
        "client = genai.Client()\n",
        "\n",
        "MODEL_ID = \"gemini-2.0-flash\""
      ],
      "metadata": {
        "id": "bV4w0H5TLk5g"
      },
      "execution_count": 4,
      "outputs": []
    },
    {
      "cell_type": "code",
      "source": [
        "# Pergunta ao Gemini uma informação mais recente que seu conhecimento\n",
        "\n",
        "from IPython.display import HTML, Markdown\n",
        "\n",
        "# Perguntar pro modelo quando é a próxima imersão de IA ###############################################\n",
        "resposta = client.models.generate_content(\n",
        "    model=MODEL_ID,\n",
        "    contents='Quantas leis tem o Código de Defesa do consumidor?',\n",
        ")\n",
        "\n",
        "# Exibe a resposta na tela\n",
        "display(Markdown(f\"Resposta:\\n {resposta.text}\"))"
      ],
      "metadata": {
        "id": "HwVP7Xi34Zuw",
        "colab": {
          "base_uri": "https://localhost:8080/",
          "height": 87
        },
        "outputId": "301d2990-ea85-4d3d-ff01-40e6a333a390"
      },
      "execution_count": 5,
      "outputs": [
        {
          "output_type": "display_data",
          "data": {
            "text/plain": [
              "<IPython.core.display.Markdown object>"
            ],
            "text/markdown": "Resposta:\n O Código de Defesa do Consumidor (CDC) é uma lei única, a Lei nº 8.078, de 11 de setembro de 1990. Essa lei é que estabelece as normas para a proteção e defesa dos direitos do consumidor em todo o território nacional.\n\nPortanto, a resposta é: **Uma lei**.\n"
          },
          "metadata": {}
        }
      ]
    },
    {
      "cell_type": "code",
      "source": [
        "# Pergunta ao Gemini uma informação utilizando a busca do Google como contexto\n",
        "\n",
        "response = client.models.generate_content(\n",
        "    model=MODEL_ID,\n",
        "    contents='Quantas leis tem o Código de Defesa do consumidor?',\n",
        "    config={\"tools\": [{\"google_search\": {}}]}\n",
        ")\n",
        "\n",
        "# Exibe a resposta na tela\n",
        "display(Markdown(f\"Resposta:\\n {response.text}\"))"
      ],
      "metadata": {
        "id": "yXaZd7iZ4ftw",
        "colab": {
          "base_uri": "https://localhost:8080/",
          "height": 64
        },
        "outputId": "e991abd8-8f23-46cd-a622-8864166c5e42"
      },
      "execution_count": 6,
      "outputs": [
        {
          "output_type": "display_data",
          "data": {
            "text/plain": [
              "<IPython.core.display.Markdown object>"
            ],
            "text/markdown": "Resposta:\n O Código de Defesa do Consumidor (CDC) é estabelecido pela Lei nº 8.078, de 11 de setembro de 1990. Esta lei estabelece normas de proteção e defesa do consumidor, sendo considerada de ordem pública e interesse social.\n"
          },
          "metadata": {}
        }
      ]
    },
    {
      "cell_type": "code",
      "source": [
        "# Exibe a busca\n",
        "print(f\"Busca realizada: {response.candidates[0].grounding_metadata.web_search_queries}\")\n",
        "# Exibe as URLs nas quais ele se baseou\n",
        "print(f\"Páginas utilizadas na resposta: {', '.join([site.web.title for site in response.candidates[0].grounding_metadata.grounding_chunks])}\")\n",
        "print()\n",
        "display(HTML(response.candidates[0].grounding_metadata.search_entry_point.rendered_content))"
      ],
      "metadata": {
        "id": "xHSNlTd84heJ",
        "colab": {
          "base_uri": "https://localhost:8080/",
          "height": 117
        },
        "outputId": "c0e81f51-917f-478d-e3c3-ba0d431e2189"
      },
      "execution_count": 7,
      "outputs": [
        {
          "output_type": "stream",
          "name": "stdout",
          "text": [
            "Busca realizada: ['Quantas leis código de defesa do consumidor']\n",
            "Páginas utilizadas na resposta: senado.leg.br, www.gov.br, bvp.adv.br, normaslegais.com.br\n",
            "\n"
          ]
        },
        {
          "output_type": "display_data",
          "data": {
            "text/plain": [
              "<IPython.core.display.HTML object>"
            ],
            "text/html": [
              "<style>\n",
              ".container {\n",
              "  align-items: center;\n",
              "  border-radius: 8px;\n",
              "  display: flex;\n",
              "  font-family: Google Sans, Roboto, sans-serif;\n",
              "  font-size: 14px;\n",
              "  line-height: 20px;\n",
              "  padding: 8px 12px;\n",
              "}\n",
              ".chip {\n",
              "  display: inline-block;\n",
              "  border: solid 1px;\n",
              "  border-radius: 16px;\n",
              "  min-width: 14px;\n",
              "  padding: 5px 16px;\n",
              "  text-align: center;\n",
              "  user-select: none;\n",
              "  margin: 0 8px;\n",
              "  -webkit-tap-highlight-color: transparent;\n",
              "}\n",
              ".carousel {\n",
              "  overflow: auto;\n",
              "  scrollbar-width: none;\n",
              "  white-space: nowrap;\n",
              "  margin-right: -12px;\n",
              "}\n",
              ".headline {\n",
              "  display: flex;\n",
              "  margin-right: 4px;\n",
              "}\n",
              ".gradient-container {\n",
              "  position: relative;\n",
              "}\n",
              ".gradient {\n",
              "  position: absolute;\n",
              "  transform: translate(3px, -9px);\n",
              "  height: 36px;\n",
              "  width: 9px;\n",
              "}\n",
              "@media (prefers-color-scheme: light) {\n",
              "  .container {\n",
              "    background-color: #fafafa;\n",
              "    box-shadow: 0 0 0 1px #0000000f;\n",
              "  }\n",
              "  .headline-label {\n",
              "    color: #1f1f1f;\n",
              "  }\n",
              "  .chip {\n",
              "    background-color: #ffffff;\n",
              "    border-color: #d2d2d2;\n",
              "    color: #5e5e5e;\n",
              "    text-decoration: none;\n",
              "  }\n",
              "  .chip:hover {\n",
              "    background-color: #f2f2f2;\n",
              "  }\n",
              "  .chip:focus {\n",
              "    background-color: #f2f2f2;\n",
              "  }\n",
              "  .chip:active {\n",
              "    background-color: #d8d8d8;\n",
              "    border-color: #b6b6b6;\n",
              "  }\n",
              "  .logo-dark {\n",
              "    display: none;\n",
              "  }\n",
              "  .gradient {\n",
              "    background: linear-gradient(90deg, #fafafa 15%, #fafafa00 100%);\n",
              "  }\n",
              "}\n",
              "@media (prefers-color-scheme: dark) {\n",
              "  .container {\n",
              "    background-color: #1f1f1f;\n",
              "    box-shadow: 0 0 0 1px #ffffff26;\n",
              "  }\n",
              "  .headline-label {\n",
              "    color: #fff;\n",
              "  }\n",
              "  .chip {\n",
              "    background-color: #2c2c2c;\n",
              "    border-color: #3c4043;\n",
              "    color: #fff;\n",
              "    text-decoration: none;\n",
              "  }\n",
              "  .chip:hover {\n",
              "    background-color: #353536;\n",
              "  }\n",
              "  .chip:focus {\n",
              "    background-color: #353536;\n",
              "  }\n",
              "  .chip:active {\n",
              "    background-color: #464849;\n",
              "    border-color: #53575b;\n",
              "  }\n",
              "  .logo-light {\n",
              "    display: none;\n",
              "  }\n",
              "  .gradient {\n",
              "    background: linear-gradient(90deg, #1f1f1f 15%, #1f1f1f00 100%);\n",
              "  }\n",
              "}\n",
              "</style>\n",
              "<div class=\"container\">\n",
              "  <div class=\"headline\">\n",
              "    <svg class=\"logo-light\" width=\"18\" height=\"18\" viewBox=\"9 9 35 35\" fill=\"none\" xmlns=\"http://www.w3.org/2000/svg\">\n",
              "      <path fill-rule=\"evenodd\" clip-rule=\"evenodd\" d=\"M42.8622 27.0064C42.8622 25.7839 42.7525 24.6084 42.5487 23.4799H26.3109V30.1568H35.5897C35.1821 32.3041 33.9596 34.1222 32.1258 35.3448V39.6864H37.7213C40.9814 36.677 42.8622 32.2571 42.8622 27.0064V27.0064Z\" fill=\"#4285F4\"/>\n",
              "      <path fill-rule=\"evenodd\" clip-rule=\"evenodd\" d=\"M26.3109 43.8555C30.9659 43.8555 34.8687 42.3195 37.7213 39.6863L32.1258 35.3447C30.5898 36.3792 28.6306 37.0061 26.3109 37.0061C21.8282 37.0061 18.0195 33.9811 16.6559 29.906H10.9194V34.3573C13.7563 39.9841 19.5712 43.8555 26.3109 43.8555V43.8555Z\" fill=\"#34A853\"/>\n",
              "      <path fill-rule=\"evenodd\" clip-rule=\"evenodd\" d=\"M16.6559 29.8904C16.3111 28.8559 16.1074 27.7588 16.1074 26.6146C16.1074 25.4704 16.3111 24.3733 16.6559 23.3388V18.8875H10.9194C9.74388 21.2072 9.06992 23.8247 9.06992 26.6146C9.06992 29.4045 9.74388 32.022 10.9194 34.3417L15.3864 30.8621L16.6559 29.8904V29.8904Z\" fill=\"#FBBC05\"/>\n",
              "      <path fill-rule=\"evenodd\" clip-rule=\"evenodd\" d=\"M26.3109 16.2386C28.85 16.2386 31.107 17.1164 32.9095 18.8091L37.8466 13.8719C34.853 11.082 30.9659 9.3736 26.3109 9.3736C19.5712 9.3736 13.7563 13.245 10.9194 18.8875L16.6559 23.3388C18.0195 19.2636 21.8282 16.2386 26.3109 16.2386V16.2386Z\" fill=\"#EA4335\"/>\n",
              "    </svg>\n",
              "    <svg class=\"logo-dark\" width=\"18\" height=\"18\" viewBox=\"0 0 48 48\" xmlns=\"http://www.w3.org/2000/svg\">\n",
              "      <circle cx=\"24\" cy=\"23\" fill=\"#FFF\" r=\"22\"/>\n",
              "      <path d=\"M33.76 34.26c2.75-2.56 4.49-6.37 4.49-11.26 0-.89-.08-1.84-.29-3H24.01v5.99h8.03c-.4 2.02-1.5 3.56-3.07 4.56v.75l3.91 2.97h.88z\" fill=\"#4285F4\"/>\n",
              "      <path d=\"M15.58 25.77A8.845 8.845 0 0 0 24 31.86c1.92 0 3.62-.46 4.97-1.31l4.79 3.71C31.14 36.7 27.65 38 24 38c-5.93 0-11.01-3.4-13.45-8.36l.17-1.01 4.06-2.85h.8z\" fill=\"#34A853\"/>\n",
              "      <path d=\"M15.59 20.21a8.864 8.864 0 0 0 0 5.58l-5.03 3.86c-.98-2-1.53-4.25-1.53-6.64 0-2.39.55-4.64 1.53-6.64l1-.22 3.81 2.98.22 1.08z\" fill=\"#FBBC05\"/>\n",
              "      <path d=\"M24 14.14c2.11 0 4.02.75 5.52 1.98l4.36-4.36C31.22 9.43 27.81 8 24 8c-5.93 0-11.01 3.4-13.45 8.36l5.03 3.85A8.86 8.86 0 0 1 24 14.14z\" fill=\"#EA4335\"/>\n",
              "    </svg>\n",
              "    <div class=\"gradient-container\"><div class=\"gradient\"></div></div>\n",
              "  </div>\n",
              "  <div class=\"carousel\">\n",
              "    <a class=\"chip\" href=\"https://vertexaisearch.cloud.google.com/grounding-api-redirect/AbF9wXHtUImDwVaIPmZHWcpNOxJ6fuC1xQwENSWpkakkjqWRBAeCqbTv7lMPnY-OSqQuOmNmKonH9EAmXu0QvBP6XInIJdsiNErozyUUWNOAuwfYGZQtpjP74Bw2d3ElLtcvPH8B_bp2p3-Po02CaCgRyQnbNRa0POLiwi3ohN6xv0AUlWww6tnpbrtIX0JeeptC0q19paspvJVwkpjujKQusDAhdsorAY503TceyT9SxXwntocENg==\">Quantas leis código de defesa do consumidor</a>\n",
              "  </div>\n",
              "</div>\n"
            ]
          },
          "metadata": {}
        }
      ]
    },
    {
      "cell_type": "code",
      "source": [
        "# Instalar Framework ADK de agentes do Google ################################################\n",
        "!pip install -q google-adk"
      ],
      "metadata": {
        "id": "hvZ3UnPI4jhJ",
        "colab": {
          "base_uri": "https://localhost:8080/"
        },
        "outputId": "d924cb85-c0b8-434d-8606-4e155f9a1fdc"
      },
      "execution_count": 8,
      "outputs": [
        {
          "output_type": "stream",
          "name": "stdout",
          "text": [
            "\u001b[?25l   \u001b[90m━━━━━━━━━━━━━━━━━━━━━━━━━━━━━━━━━━━━━━━━\u001b[0m \u001b[32m0.0/1.2 MB\u001b[0m \u001b[31m?\u001b[0m eta \u001b[36m-:--:--\u001b[0m\r\u001b[2K   \u001b[91m━━━━━━━━━━━━━━━\u001b[0m\u001b[91m╸\u001b[0m\u001b[90m━━━━━━━━━━━━━━━━━━━━━━━━\u001b[0m \u001b[32m0.5/1.2 MB\u001b[0m \u001b[31m14.0 MB/s\u001b[0m eta \u001b[36m0:00:01\u001b[0m\r\u001b[2K   \u001b[91m━━━━━━━━━━━━━━━━━━━━━━━━━━━━━━━━━━━━━━━\u001b[0m\u001b[91m╸\u001b[0m \u001b[32m1.2/1.2 MB\u001b[0m \u001b[31m21.7 MB/s\u001b[0m eta \u001b[36m0:00:01\u001b[0m\r\u001b[2K   \u001b[90m━━━━━━━━━━━━━━━━━━━━━━━━━━━━━━━━━━━━━━━━\u001b[0m \u001b[32m1.2/1.2 MB\u001b[0m \u001b[31m16.4 MB/s\u001b[0m eta \u001b[36m0:00:00\u001b[0m\n",
            "\u001b[2K   \u001b[90m━━━━━━━━━━━━━━━━━━━━━━━━━━━━━━━━━━━━━━━━\u001b[0m \u001b[32m232.1/232.1 kB\u001b[0m \u001b[31m15.8 MB/s\u001b[0m eta \u001b[36m0:00:00\u001b[0m\n",
            "\u001b[2K   \u001b[90m━━━━━━━━━━━━━━━━━━━━━━━━━━━━━━━━━━━━━━━━\u001b[0m \u001b[32m95.2/95.2 kB\u001b[0m \u001b[31m7.3 MB/s\u001b[0m eta \u001b[36m0:00:00\u001b[0m\n",
            "\u001b[2K   \u001b[90m━━━━━━━━━━━━━━━━━━━━━━━━━━━━━━━━━━━━━━━━\u001b[0m \u001b[32m217.1/217.1 kB\u001b[0m \u001b[31m16.9 MB/s\u001b[0m eta \u001b[36m0:00:00\u001b[0m\n",
            "\u001b[2K   \u001b[90m━━━━━━━━━━━━━━━━━━━━━━━━━━━━━━━━━━━━━━━━\u001b[0m \u001b[32m334.1/334.1 kB\u001b[0m \u001b[31m21.5 MB/s\u001b[0m eta \u001b[36m0:00:00\u001b[0m\n",
            "\u001b[2K   \u001b[90m━━━━━━━━━━━━━━━━━━━━━━━━━━━━━━━━━━━━━━━━\u001b[0m \u001b[32m125.1/125.1 kB\u001b[0m \u001b[31m10.1 MB/s\u001b[0m eta \u001b[36m0:00:00\u001b[0m\n",
            "\u001b[2K   \u001b[90m━━━━━━━━━━━━━━━━━━━━━━━━━━━━━━━━━━━━━━━━\u001b[0m \u001b[32m65.8/65.8 kB\u001b[0m \u001b[31m5.0 MB/s\u001b[0m eta \u001b[36m0:00:00\u001b[0m\n",
            "\u001b[2K   \u001b[90m━━━━━━━━━━━━━━━━━━━━━━━━━━━━━━━━━━━━━━━━\u001b[0m \u001b[32m119.0/119.0 kB\u001b[0m \u001b[31m10.0 MB/s\u001b[0m eta \u001b[36m0:00:00\u001b[0m\n",
            "\u001b[2K   \u001b[90m━━━━━━━━━━━━━━━━━━━━━━━━━━━━━━━━━━━━━━━━\u001b[0m \u001b[32m194.9/194.9 kB\u001b[0m \u001b[31m15.8 MB/s\u001b[0m eta \u001b[36m0:00:00\u001b[0m\n",
            "\u001b[2K   \u001b[90m━━━━━━━━━━━━━━━━━━━━━━━━━━━━━━━━━━━━━━━━\u001b[0m \u001b[32m62.5/62.5 kB\u001b[0m \u001b[31m4.9 MB/s\u001b[0m eta \u001b[36m0:00:00\u001b[0m\n",
            "\u001b[2K   \u001b[90m━━━━━━━━━━━━━━━━━━━━━━━━━━━━━━━━━━━━━━━━\u001b[0m \u001b[32m103.3/103.3 kB\u001b[0m \u001b[31m6.4 MB/s\u001b[0m eta \u001b[36m0:00:00\u001b[0m\n",
            "\u001b[2K   \u001b[90m━━━━━━━━━━━━━━━━━━━━━━━━━━━━━━━━━━━━━━━━\u001b[0m \u001b[32m44.4/44.4 kB\u001b[0m \u001b[31m3.1 MB/s\u001b[0m eta \u001b[36m0:00:00\u001b[0m\n",
            "\u001b[2K   \u001b[90m━━━━━━━━━━━━━━━━━━━━━━━━━━━━━━━━━━━━━━━━\u001b[0m \u001b[32m72.0/72.0 kB\u001b[0m \u001b[31m5.8 MB/s\u001b[0m eta \u001b[36m0:00:00\u001b[0m\n",
            "\u001b[?25h"
          ]
        }
      ]
    },
    {
      "cell_type": "code",
      "execution_count": 9,
      "metadata": {
        "id": "aePV2bdfDeoW"
      },
      "outputs": [],
      "source": [
        "from google.adk.agents import Agent\n",
        "from google.adk.runners import Runner\n",
        "from google.adk.sessions import InMemorySessionService\n",
        "from google.adk.tools import google_search\n",
        "from google.genai import types  # Para criar conteúdos (Content e Part)\n",
        "from datetime import date\n",
        "import textwrap # Para formatar melhor a saída de texto\n",
        "from IPython.display import display, Markdown # Para exibir texto formatado no Colab\n",
        "import requests # Para fazer requisições HTTP\n",
        "import warnings\n",
        "\n",
        "warnings.filterwarnings(\"ignore\")"
      ]
    },
    {
      "cell_type": "code",
      "source": [
        "# Função auxiliar que envia uma mensagem para um agente via Runner e retorna a resposta final\n",
        "def call_agent(agent: Agent, message_text: str) -> str:\n",
        "    # Cria um serviço de sessão em memória\n",
        "    session_service = InMemorySessionService()\n",
        "    # Cria uma nova sessão (você pode personalizar os IDs conforme necessário)\n",
        "    session = session_service.create_session(app_name=agent.name, user_id=\"user1\", session_id=\"session1\")\n",
        "    # Cria um Runner para o agente\n",
        "    runner = Runner(agent=agent, app_name=agent.name, session_service=session_service)\n",
        "    # Cria o conteúdo da mensagem de entrada\n",
        "    content = types.Content(role=\"user\", parts=[types.Part(text=message_text)])\n",
        "\n",
        "    final_response = \"\"\n",
        "    # Itera assincronamente pelos eventos retornados durante a execução do agente\n",
        "    for event in runner.run(user_id=\"user1\", session_id=\"session1\", new_message=content):\n",
        "        if event.is_final_response():\n",
        "          for part in event.content.parts:\n",
        "            if part.text is not None:\n",
        "              final_response += part.text\n",
        "    return final_response"
      ],
      "metadata": {
        "id": "_xP4lWhsS5ko"
      },
      "execution_count": 10,
      "outputs": []
    },
    {
      "cell_type": "code",
      "source": [
        "# Função auxiliar para exibir texto formatado em Markdown no Colab\n",
        "def to_markdown(text):\n",
        "  text = text.replace('•', '  *')\n",
        "  return Markdown(textwrap.indent(text, '> ', predicate=lambda _: True))"
      ],
      "metadata": {
        "id": "8dosiodaxfFR"
      },
      "execution_count": 11,
      "outputs": []
    },
    {
      "cell_type": "code",
      "source": [
        "################################################\n",
        "# --- Agente 1: Classificador de perguntas --- #\n",
        "################################################\n",
        "def agente_classificador(topico, data_de_hoje):\n",
        "    Classificador = Agent(\n",
        "        name=\"agente_buscador\",\n",
        "        model=\"gemini-2.0-flash\",\n",
        "        description=\"Agente que define se a pergunta e sobre o CDC\",\n",
        "        tools=[google_search],\n",
        "        instruction=f\"\"\"\n",
        "\n",
        "        Você é um classificador de perguntas. Sua única tarefa é determinar se a pergunta do usuário ('{topico}')\n",
        "         é **sobre o Código de Defesa do Consumidor (CDC)** ou **não é sobre o Código de Defesa do Consumidor**.\n",
        "\n",
        "        **REGRAS RÍGIDAS:**\n",
        "        1. SE a pergunta ('{topico}') FOR claramente sobre o Código de Defesa do Consumidor, responda **SOMENTE** a palavra \"CDC\".\n",
        "        2. SE a pergunta ('{topico}') NÃO FOR sobre o Código de Defesa do Consumidor, responda **SOMENTE** a palavra \"OUTRO\".\n",
        "        3. NÃO inclua NENHUMA outra palavra, explicação, saudação ou pontuação na sua resposta, APENAS \"CDC\" ou \"OUTRO\".\n",
        "        4. Não use ferramentas de busca para classificar. Baseie-se apenas na pergunta fornecida.\n",
        "\n",
        "        Pergunta a classificar: '{topico}'\n",
        "\n",
        "        Sua resposta deve ser APENAS \"CDC\" ou \"\"OUTRO\".\n",
        "        \"\"\"\n",
        "    )\n",
        "\n",
        "\n",
        "\n",
        "    entrada_do_agente_classificador = f\"Tópico: {topico}\\nData de hoje: {data_de_hoje}\"\n",
        "    Pergunta_classificada = call_agent(agent=Classificador, message_text=entrada_do_agente_classificador)\n",
        "    return Pergunta_classificada\n"
      ],
      "metadata": {
        "id": "PlegPyOkkJzh"
      },
      "execution_count": 12,
      "outputs": []
    },
    {
      "cell_type": "code",
      "source": [
        "##########################################\n",
        "# --- Agente 2: Buscador de leis --- #\n",
        "##########################################\n",
        "def agente_buscador(topico, data_de_hoje):\n",
        "    pesquisador = Agent(\n",
        "        name=\"agente_buscador\",\n",
        "        model=\"gemini-2.0-flash\",\n",
        "        description=\"Agente que busca informações no Google\",\n",
        "        tools=[google_search],\n",
        "        instruction=f\"\"\"\n",
        "\n",
        "        Você é um assistente de pesquisa. A sua tarefa é usar o\n",
        "        site https://www.procon.df.gov.br/wp-content/uploads/2019/08/Codigo-do-consumidor-FINAL.pdf\n",
        "        e a ferramenta de busca do google (google_search) para pesquisar artigos e materias para elaborar respostas sobre\n",
        "        o Código de Defesa do Consumidor(CDC).\n",
        "        Sempre leve em conta a matéria mais atual, verídica, legítima e confiável.\n",
        "        Considere as informações do site https://www.procon.df.gov.br/wp-content/uploads/2019/08/Codigo-do-consumidor-FINAL.pdf\n",
        "        como uma fonte importante para referência, mas use a busca para informações e atualizações recentes da Lei.\"\"\"\n",
        "\n",
        "    )\n",
        "\n",
        "\n",
        "\n",
        "    entrada_do_agente_buscador = f\"Tópico: {topico}\\nData_de_hoje: {data_de_hoje}\"\n",
        "    leis_buscadas = call_agent(pesquisador, entrada_do_agente_buscador)\n",
        "    return leis_buscadas\n"
      ],
      "metadata": {
        "id": "o8bqIfi_DyH8"
      },
      "execution_count": 13,
      "outputs": []
    },
    {
      "cell_type": "code",
      "source": [
        "################################################\n",
        "# --- Agente 3: Planejador de resposta --- #\n",
        "################################################\n",
        "def agente_planejador(topico, leis_buscadas):\n",
        "    planejador = Agent(\n",
        "        name=\"agente_planejador\",\n",
        "        model=\"gemini-2.0-flash\",\n",
        "        description=\"Agente que planeja resosta\",\n",
        "        tools=[google_search],\n",
        "        # Inserir as instruções do Agente Planejador #################################################\n",
        "        instruction=\"\"\"\n",
        "\n",
        "            Você e um especialista na lei de defessa do consumidor. Com base na lei de defesa do consumidor e pesquisa do buscador,\n",
        "            você deve: usar as ferramentas de busca do google (google_search) e a Lei de defessa do consumidor\n",
        "            para criar um plano de resposta com os pontos mais relevantes para o tópico pesquisado.\n",
        "            Você pode também usar o (google_search) e o\n",
        "            site https://www.procon.df.gov.br/wp-content/uploads/2019/08/Codigo-do-consumidor-FINAL.pdf\n",
        "            para encontrar mais informações sobre o assunto. Sempre cite a lei do consumidor.\n",
        "            Selecione e retorne as informações mais importantes e veridicas para elaborar uma resposta segura ao consumidor. \"\"\",\n",
        "\n",
        "    )\n",
        "\n",
        "    entrada_do_agente_planejador = f\"Tópico:{topico}\\nLeis_buscadas: {leis_buscadas}\"\n",
        "    # Executa o agente\n",
        "    plano_de_resposta = call_agent(planejador, entrada_do_agente_planejador)\n",
        "    return plano_de_resposta"
      ],
      "metadata": {
        "id": "y3VO1uo5_ghO"
      },
      "execution_count": 14,
      "outputs": []
    },
    {
      "cell_type": "code",
      "source": [
        "##########################################\n",
        "# --- Agente 4: Redator de Resposta --- #\n",
        "##########################################\n",
        "def agente_redator(topico, plano_de_resposta):\n",
        "    redator = Agent(\n",
        "        name=\"agente_redator\",\n",
        "        model=\"gemini-2.0-flash\",\n",
        "        description=\"Agente redator de Resposta para o consumidor\",\n",
        "        instruction=\"\"\"\n",
        "            Você é um Redator especialista em código de defesa do consumidor.\n",
        "            **Primeiro cite em destaque, negrito, itálico e fonte maior, o artigo da lei do código de defesa do consumidor relacionada a pergunta feita pelo usuário.**\n",
        "            Você escreve respostas para o agente da lei (Agente de IA), um agente de respostas assertivas, veridicas\n",
        "            e legítimas sobre o Código de defesa do Consumidor.\n",
        "            Utilize o tema fornecido pelo plano de resposta para elaborar um rascunho mais breve, simples e sucinto para o consumidor.\n",
        "            Use linguagem simples, informal e direta.\n",
        "            A resposta deve sempre levar em conta o Código de defesa do consumidor, ser verídica, informativa, com linguagem simples e incluir pelo menos 3 argumentos que o\n",
        "            usuário comum possa usar para se defender e exigir que a lei seja cumprida.Sempre cite o artigo da lei do código de defesa do consumidor.\n",
        "            \"\"\",\n",
        "\n",
        "    )\n",
        "    entrada_do_agente_redator = f\"Tópico: {topico}\\nPlano de resposta: {plano_de_resposta}\"\n",
        "    # Executa o agente\n",
        "    resposta = call_agent(redator, entrada_do_agente_redator)\n",
        "    return resposta"
      ],
      "metadata": {
        "id": "uOqlg2TRLVh1"
      },
      "execution_count": 15,
      "outputs": []
    },
    {
      "cell_type": "code",
      "source": [
        "data_de_hoje = date.today().strftime(\"%d/%m/%Y\")\n",
        "\n",
        "print(\" Iniciando o Sistema de Pesquisa do Código de Defesa do Consumidor \")\n",
        "\n",
        "# --- Obter o Tópico do Usuário ---\n",
        "topico = input(\" Por favor, Qual sua dúvida sobre o Código de Defesa do consumidor: \")\n",
        "\n",
        "# --- Importar a biblioteca time ---\n",
        "import time\n",
        "\n",
        "# Inserir lógica do sistema de agentes ################################################\n",
        "if not topico:\n",
        "    print(\"Por favor, insira uma pergunta válida.\")\n",
        "else:\n",
        "    print(\"\\n\")\n",
        "    print(f\"Só um momento, estamos pesquisando e elaborando a melhor resposta para você.\")\n",
        "\n",
        "\n",
        "    classificador_de_perguntas_raw = agente_classificador(topico, data_de_hoje)\n",
        "    classificador_de_perguntas = classificador_de_perguntas_raw.strip() # <-- ADICIONADA ESTA LINHA PARA REMOVER ESPAÇOS E QUEBRAS DE LINHA\n",
        "\n",
        "    print(\"\\n--- Resultado do agente 1 (classificador) ---\\n\")\n",
        "    display(to_markdown(classificador_de_perguntas_raw)) # Exibe o resultado original para debug, se necessário\n",
        "    print(f\"Resultado processado para comparação: '{classificador_de_perguntas}'\") # Imprime o resultado processado para verificar\n",
        "    print(\"--------------------------------------------\")\n",
        "\n",
        "    if classificador_de_perguntas == \"OUTRO\":\n",
        "        # --- Bloco executado se a classificacao_de_pergunta for \"OUTRO\" (PARAR) ---\n",
        "        print(\"\\nDesculpe, minha especialidade é apenas o Código de Defesa do Consumidor. Não posso ajudar com tópicos fora desse assunto.\")\n",
        "        print(\"Processo finalizado: Tópico fora do escopo.\") # Indica que o processo terminou aqui\n",
        "\n",
        "    elif classificador_de_perguntas == \"CDC\":\n",
        "        # --- Bloco executado se a classificação for \"CDC\" (CONTINUAR) ---\n",
        "        print(\"\\nSua pergunta é sobre CDC. Só um momento, estamos pesquisando e elaborando a melhor resposta para você.\")\n",
        "\n",
        "        # --- Chamar os agentes subsequentes SOMENTE AQUI DENTRO ---\n",
        "        # Estão indentados sob o 'elif classificacao_da_pergunta == \"CDC\":'\n",
        "\n",
        "        # Chamada para o Agente Buscador\n",
        "        # Nota: Passe o 'topico' original e talvez a data para o buscador, não a classificação\n",
        "        leis_buscadas = agente_buscador(topico, data_de_hoje) # Ajuste a entrada conforme a instrução do buscador\n",
        "        print(\"\\n--- Resultado do agente 1 (Buscador) ---\\n\")\n",
        "        display(to_markdown(leis_buscadas))\n",
        "        print(\"--------------------------------------------\")\n",
        "\n",
        "        time.sleep(2)\n",
        "\n",
        "        plano_de_resposta = agente_planejador(topico, leis_buscadas)\n",
        "        print(\"\\n--- Resultado do agente 2 (Planejador) ---\\n\")\n",
        "        display(to_markdown(plano_de_resposta))\n",
        "        print(\"--------------------------------------------\")\n",
        "\n",
        "        time.sleep(2)\n",
        "\n",
        "        rascunho_gerado = agente_redator(topico, plano_de_resposta)\n",
        "        print(\"\\n--- Resultado do agente 3 (Redator) ---\\n\")\n",
        "        display(to_markdown(rascunho_gerado))\n",
        "        print(\"--------------------------------------------\")\n",
        "\n",
        "    else: # Lida com resultados inesperados do classificador\n",
        "        print(f\"\\nErro na classificação: Resultado inesperado '{classificador_de_perguntas}'. Não foi possível processar sua pergunta.\")\n",
        "        print(\"Processo finalizado: Erro na classificação.\")"
      ],
      "metadata": {
        "colab": {
          "base_uri": "https://localhost:8080/",
          "height": 1000
        },
        "id": "nyaMkxE-5nlR",
        "outputId": "91347344-ac4e-45c0-8954-1ed12a364849"
      },
      "execution_count": 18,
      "outputs": [
        {
          "output_type": "stream",
          "name": "stdout",
          "text": [
            " Iniciando o Sistema de Pesquisa do Código de Defesa do Consumidor \n",
            " Por favor, Qual sua dúvida sobre o Código de Defesa do consumidor: Recebi o produto com defeito, e agora?\n",
            "\n",
            "\n",
            "Só um momento, estamos pesquisando e elaborando a melhor resposta para você.\n",
            "\n",
            "--- Resultado do agente 1 (classificador) ---\n",
            "\n"
          ]
        },
        {
          "output_type": "display_data",
          "data": {
            "text/plain": [
              "<IPython.core.display.Markdown object>"
            ],
            "text/markdown": "> CDC\n"
          },
          "metadata": {}
        },
        {
          "output_type": "stream",
          "name": "stdout",
          "text": [
            "Resultado processado para comparação: 'CDC'\n",
            "--------------------------------------------\n",
            "\n",
            "Sua pergunta é sobre CDC. Só um momento, estamos pesquisando e elaborando a melhor resposta para você.\n",
            "\n",
            "--- Resultado do agente 1 (Buscador) ---\n",
            "\n"
          ]
        },
        {
          "output_type": "display_data",
          "data": {
            "text/plain": [
              "<IPython.core.display.Markdown object>"
            ],
            "text/markdown": "> Olá! Entendo sua situação. Receber um produto com defeito é frustrante, mas o Código de Defesa do Consumidor (CDC) te protege nesses casos. Para te ajudar da melhor forma, preciso fornecer algumas informações sobre seus direitos e os passos que você pode seguir.\n> \n> **Quais são seus direitos quando o produto vem com defeito?**\n> \n> O CDC garante que você tem direito à reparação do vício (defeito) do produto. Isso significa que o fornecedor (quem te vendeu o produto) e o fabricante têm a responsabilidade de solucionar o problema.\n> \n> **Prazos para solucionar o problema:**\n> \n> *   **Produto não durável:** O prazo para reclamar do defeito é de 30 dias a partir da data da compra.\n> *   **Produto durável:** O prazo para reclamar do defeito é de 90 dias a partir da data da compra.\n> \n> **O que pode ser exigido do fornecedor/fabricante?**\n> \n> Após a reclamação, o fornecedor/fabricante tem 30 dias para sanar o vício (resolver o problema). Caso não resolvam nesse prazo, você tem as seguintes opções, conforme o artigo 18 do CDC:\n> \n> *   **Substituição do produto:** Trocar o produto defeituoso por outro em perfeitas condições.\n> *   **Restituição do valor pago:** Receber o dinheiro de volta, com correção monetária.\n> *   **Abatimento proporcional do preço:** Ficar com o produto e receber um desconto no valor, proporcional ao defeito.\n> \n> **Como proceder?**\n> \n> 1.  **Entre em contato com o fornecedor/fabricante:** Explique o problema detalhadamente e formalize a reclamação (guarde o protocolo, e-mails, etc.).\n> 2.  **Guarde comprovantes:** Tenha em mãos a nota fiscal, o termo de garantia (se houver) e qualquer outro documento que comprove a compra e o defeito.\n> 3.  **Se o problema não for resolvido em 30 dias:** Escolha uma das alternativas que mencionei acima (substituição, restituição ou abatimento) e comunique sua decisão ao fornecedor/fabricante.\n> 4.  **Se não houver acordo:** Você pode registrar uma reclamação no Procon da sua cidade ou buscar auxílio judicial.\n> \n> Para complementar essas informações e te dar mais segurança, farei uma pesquisa para verificar se houve alguma atualização recente sobre esse tema.\n> \n> Com base nas pesquisas realizadas, compilei as seguintes informações adicionais e atualizações sobre seus direitos:\n> \n> *   **Conceito de Vício e Defeito:** É importante saber que o CDC faz distinção entre \"vício\" e \"defeito\". Vício é um problema que afeta a qualidade ou quantidade do produto, enquanto defeito compromete a segurança, podendo causar danos ao consumidor (Fonte: Genyo; Advogados em Vinhedo).\n> \n> *   **Produtos Essenciais:** Se o produto com defeito for considerado essencial (ex: geladeira, fogão), a troca ou solução do problema deve ser imediata, não sendo necessário aguardar o prazo de 30 dias (Fonte: Prefeitura de Rio Preto; Procon-ES).\n> \n> *   **Responsabilidade Solidária:** Tanto o comerciante quanto o fabricante são responsáveis por solucionar o problema do produto com defeito (Fonte: PROCON).\n> \n> *   **Indenização por Danos:** Além da troca, restituição ou abatimento, você pode ter direito a indenização por danos materiais e morais, ou até mesmo à saúde, caso o produto defeituoso cause algum prejuízo (Fonte: GOV.BR). O prazo para exigir essa reparação é de 5 anos, a partir do momento em que você toma conhecimento do problema e identifica o responsável.\n> \n> *   **Direito de Arrependimento em Compras Online:** Se a compra foi feita pela internet ou telefone, você tem o direito de se arrepender em até 7 dias após o recebimento do produto, mesmo que não haja defeito (Fonte: Procon Pernambuco; Genyo).\n> \n> **Recomendações:**\n> \n> 1.  **Documente tudo:** Guarde todos os comprovantes de compra, protocolos de atendimento, e-mails trocados com o fornecedor/fabricante, etc.\n> 2.  **Formalize a reclamação:** Faça a reclamação por escrito, detalhando o problema e suas expectativas de solução.\n> 3.  **Procure o Procon:** Se não conseguir resolver diretamente com o fornecedor/fabricante, registre uma reclamação no Procon da sua cidade.\n> 4.  **Considere a via judicial:** Se o problema persistir, procure um advogado para avaliar a possibilidade de ação judicial.\n> \n> Espero que essas informações te ajudem a resolver essa situação da melhor forma possível!"
          },
          "metadata": {}
        },
        {
          "output_type": "stream",
          "name": "stdout",
          "text": [
            "--------------------------------------------\n",
            "\n",
            "--- Resultado do agente 2 (Planejador) ---\n",
            "\n"
          ]
        },
        {
          "output_type": "display_data",
          "data": {
            "text/plain": [
              "<IPython.core.display.Markdown object>"
            ],
            "text/markdown": "> Compreendo a sua preocupação ao receber um produto com defeito. Para lidar com essa situação de forma eficaz, preparei um plano de resposta detalhado com base no Código de Defesa do Consumidor (CDC) e em pesquisas atualizadas.\n> \n> **Plano de Resposta Detalhado:**\n> \n> 1.  **Direitos do Consumidor:**\n>     *   O CDC assegura o direito à reparação do defeito do produto, responsabilizando tanto o fornecedor quanto o fabricante pela solução do problema.\n>     *   **Artigo 18 do CDC:** \"Os fornecedores de produtos de consumo duráveis ou não duráveis respondem solidariamente pelos vícios de qualidade ou quantidade que os tornem impróprios ou inadequados ao consumo a que se destinam ou lhes diminuam o valor.\"\n> \n> 2.  **Prazos para Reclamação:**\n>     *   **Produtos não duráveis:** 30 dias a partir da data da compra.\n>     *   **Produtos duráveis:** 90 dias a partir da data da compra.\n>     *   **Artigo 26 do CDC:** \"O direito de reclamar pelos vícios aparentes ou de fácil constatação caduca em: I - trinta dias, tratando-se de fornecimento de serviço e de produtos não duráveis; II - noventa dias, tratando-se de fornecimento de serviço e de produtos duráveis.\"\n> \n> 3.  **Opções de Solução:**\n>     *   Após a reclamação, o fornecedor/fabricante tem 30 dias para resolver o problema. Se não o fizerem, o consumidor pode escolher entre:\n>         *   **Substituição do produto:** Troca por um produto novo e em perfeitas condições.\n>         *   **Restituição do valor pago:** Reembolso integral do valor pago, com correção monetária.\n>         *   **Abatimento proporcional do preço:** Desconto no valor do produto, mantendo-o com o defeito.\n>     *   **Artigo 18, § 1º e § 3º do CDC:** Detalha as opções de substituição, restituição e abatimento proporcional.\n> \n> 4.  **Procedimentos a Seguir:**\n>     1.  **Contato com o Fornecedor/Fabricante:**\n>         *   Formalize a reclamação detalhadamente, guardando todos os registros de comunicação (protocolos, e-mails, etc.).\n>     2.  **Documentação:**\n>         *   Reúna a nota fiscal, termo de garantia (se houver) e qualquer outro documento que comprove a compra e o defeito.\n>     3.  **Aguarde o Prazo de 30 Dias:**\n>         *   Se o problema não for resolvido nesse período, escolha uma das alternativas (substituição, restituição ou abatimento) e comunique sua decisão.\n>     4.  **Registro no Procon:**\n>         *   Se não houver acordo, registre uma reclamação no Procon da sua cidade.\n>     5.  **Ação Judicial:**\n>         *   Em último caso, procure auxílio judicial para buscar uma solução.\n> \n> 5.  **Informações Adicionais e Atualizações:**\n>     *   **Vício vs. Defeito:**\n>         *   **Vício:** Afeta a qualidade ou quantidade do produto.\n>         *   **Defeito:** Compromete a segurança e pode causar danos ao consumidor.\n>     *   **Produtos Essenciais:**\n>         *   A troca ou solução do problema deve ser imediata, sem a necessidade de aguardar os 30 dias.\n>     *   **Responsabilidade Solidária:**\n>         *   Tanto o comerciante quanto o fabricante são responsáveis por solucionar o problema.\n>     *   **Indenização por Danos:**\n>         *   Além da troca, restituição ou abatimento, você pode ter direito a indenização por danos materiais, morais e à saúde.\n>         *   **Artigo 6º, VI, do CDC:** Garante a \"efetiva prevenção e reparação de danos patrimoniais e morais, individuais, coletivos e difusos.\"\n>     *   **Prazo para Reparação por Danos:**\n>         *   5 anos a partir do conhecimento do problema e identificação do responsável.\n>         *   **Artigo 27 do CDC:** \"Prescreve em cinco anos a pretensão à reparação pelos danos causados por fato do produto ou do serviço prevista na Seção II deste Capítulo, iniciando-se a contagem do prazo a partir do conhecimento do dano e de sua autoria.\"\n>     *   **Direito de Arrependimento em Compras Online:**\n>         *   7 dias após o recebimento do produto, mesmo sem defeito.\n>         *   **Artigo 49 do CDC:** \"O consumidor pode desistir do contrato, no prazo de 7 dias a contar de sua assinatura ou do ato de recebimento do produto ou serviço, sempre que a contratação de fornecimento de produtos e serviços ocorrer fora do estabelecimento comercial, especialmente por telefone ou a domicílio.\"\n> \n> 6.  **Recomendações Finais:**\n>     *   **Documente Tudo:** Guarde todos os comprovantes e registros de comunicação.\n>     *   **Formalize a Reclamação:** Faça a reclamação por escrito, detalhando o problema.\n>     *   **Procure o Procon:** Registre uma reclamação no Procon se não conseguir resolver diretamente com o fornecedor/fabricante.\n>     *   **Considere a Via Judicial:** Se o problema persistir, procure um advogado para avaliar a possibilidade de ação judicial.\n> \n> Espero que este plano detalhado te ajude a resolver a situação de forma eficaz e a garantir seus direitos como consumidor."
          },
          "metadata": {}
        },
        {
          "output_type": "stream",
          "name": "stdout",
          "text": [
            "--------------------------------------------\n",
            "\n",
            "--- Resultado do agente 3 (Redator) ---\n",
            "\n"
          ]
        },
        {
          "output_type": "display_data",
          "data": {
            "text/plain": [
              "<IPython.core.display.Markdown object>"
            ],
            "text/markdown": "> ### ***\"Art. 18. Os fornecedores de produtos de consumo duráveis ou não duráveis respondem solidariamente pelos vícios de qualidade ou quantidade que os tornem impróprios ou inadequados ao consumo a que se destinam ou lhes diminuam o valor, assim como por aqueles decorrentes da disparidade, com as indicações constantes do recipiente, da embalagem, rotulagem ou mensagem publicitária, respeitadas as variações decorrentes de sua natureza, podendo o consumidor exigir a substituição das partes viciadas.\"***\n> \n> E aí, tudo bem? Que chato receber um produto com defeito, né? Mas fica tranquilo(a), a lei tá do seu lado! Olha só:\n> \n> 1.  **Seus Direitos:** O Código de Defesa do Consumidor (CDC) diz que tanto a loja quanto o fabricante são responsáveis por resolver o problema. Artigo 18 do CDC.\n> \n> 2.  **O Que Fazer:** Você tem até 90 dias pra reclamar de produtos duráveis (tipo eletrodomésticos) e 30 dias pra não duráveis (tipo comida). Depois de reclamar, eles têm 30 dias pra resolver. Se não resolverem, você pode escolher entre:\n>     *   Trocar o produto por um novo;\n>     *   Receber seu dinheiro de volta;\n>     *   Ficar com o produto e receber um desconto.\n> \n> 3.  **Como Se Defender:**\n>     *   **Guarde tudo:** Nota fiscal, garantia, e-mails, tudo que possa provar sua compra e o defeito.\n>     *   **Reclame por escrito:** Detalhe bem o problema e guarde uma cópia da reclamação.\n>     *   **Procon:** Se a loja não resolver, corre pro Procon da sua cidade e faz uma reclamação.\n> \n> Lembre-se, você não está sozinho(a) nessa! Seus direitos estão garantidos, e com essas dicas, você vai conseguir resolver essa situação rapidinho."
          },
          "metadata": {}
        },
        {
          "output_type": "stream",
          "name": "stdout",
          "text": [
            "--------------------------------------------\n"
          ]
        }
      ]
    }
  ]
}